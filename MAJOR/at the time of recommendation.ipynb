{
 "cells": [
  {
   "cell_type": "code",
   "execution_count": 3,
   "metadata": {
    "collapsed": true
   },
   "outputs": [],
   "source": [
    "import csv\n",
    "import pandas as pd\n",
    "import numpy as np\n",
    "import os \n",
    "import sys\n",
    "\n",
    "path = \"C:/Users/admin/OneDrive/Desktop/\"\n",
    " \n",
    "name = \"User\"\n",
    "email = \"ashka@gmail.com\"\n",
    "interests_list = [\"Programming\"]\n",
    "future_aspirations = [\"Software Engineering\"]\n",
    "\n",
    "df = pd.read_csv(path+\"MAJOR/recent_interests.csv\")\n",
    "\n",
    "flag = 0\n",
    "for index, row in df.iterrows():\n",
    "    if(row['Email'] == email):\n",
    "        row['Interests'] = \",\".join(interests_list)\n",
    "        flag = 1\n",
    "        \n",
    "if(flag == 0):\n",
    "    interests_str = \",\".join(interests_list)\n",
    "    new_row = {'Name':name, 'Email':email, 'Interests': interests_str}\n",
    "    df = df.append(new_row, ignore_index=True)\n",
    "\n",
    "\n",
    "df.to_csv(path+\"MAJOR/recent_interests.csv\",index=False)\n",
    "\n",
    "df_syll = pd.read_csv(path+\"MAJOR/final_syll.csv\")\n",
    "\n",
    "df_areas = pd.read_csv(path+\"MAJOR/final_interests.csv\")\n",
    "\n",
    "dict = {}\n",
    "for i in interests_list:\n",
    "    dict[i] = 1\n",
    "\n",
    "\n",
    "courses = []\n",
    "similarity = []\n",
    "for index, row in df_syll.iterrows():\n",
    "    courses.append(row['Course Id'].strip())\n",
    "    similarity.append(0)\n",
    "\n",
    "\n",
    "\n",
    "def func(str1,str2):\n",
    "    str1 = str1.split(\" \")\n",
    "    str2 = str2.split(\" \")\n",
    "    return len(list(set(str1)&set(str2)))\n",
    "\n",
    "\n",
    "\n",
    "\n",
    "for index, row in df_areas.iterrows():\n",
    "    if row['Interests'] in dict.keys():\n",
    "    #find percentage similarity of interest and course description\n",
    "        for index_1, row_1 in df_syll.iterrows():\n",
    "            similarity_temp = func(row['Stemmed Related Words'],row_1['Stemmed Description'])\n",
    "            similarity[index_1]=similarity[index_1]+similarity_temp\n",
    "        \n",
    "yx = zip(similarity, courses) \n",
    "yx=sorted(yx)\n",
    "courses_sorted = [x for y, x in yx]\n",
    "courses_to_be_displayed = courses_sorted[-20:]\n",
    "courses_to_be_displayed.reverse()\n",
    "\n",
    "\n",
    "        \n",
    "\n",
    "\n"
   ]
  },
  {
   "cell_type": "code",
   "execution_count": 4,
   "metadata": {
    "collapsed": true
   },
   "outputs": [],
   "source": [
    "df = pd.read_csv(path+\"MAJOR/student_data.csv\")"
   ]
  },
  {
   "cell_type": "code",
   "execution_count": null,
   "metadata": {
    "collapsed": true
   },
   "outputs": [],
   "source": []
  },
  {
   "cell_type": "code",
   "execution_count": 5,
   "metadata": {
    "collapsed": true
   },
   "outputs": [],
   "source": [
    "flag=0\n",
    "courses_taken = \"\"\n",
    "for index, row in df.iterrows():\n",
    "    if(row['Email'] == email):\n",
    "        courses_taken=courses_taken+(row['Courses Taken'])\n",
    "        flag=1\n",
    "        break\n",
    "\n",
    "courses_taken_list = courses_taken.split(\",\")\n",
    "my_dict = {}\n",
    "for i in courses_taken_list:\n",
    "    my_dict[i] = 1\n",
    "\n",
    "if(flag == 1):\n",
    "    #remove already courses taken from list\n",
    "    for i in courses_to_be_displayed:\n",
    "        if(my_dict.__contains__(i)):\n",
    "            courses_to_be_displayed.remove(i)\n",
    "\n",
    "#print(courses_to_be_displayed)\n"
   ]
  },
  {
   "cell_type": "code",
   "execution_count": null,
   "metadata": {
    "collapsed": true
   },
   "outputs": [],
   "source": []
  },
  {
   "cell_type": "code",
   "execution_count": 6,
   "metadata": {
    "collapsed": true
   },
   "outputs": [],
   "source": [
    "courses_to_be_displayed_final = courses_to_be_displayed[:5]\n",
    "courses_to_be_displayed_names = []\n",
    "df = pd.read_csv(path+\"MAJOR/final_syll.csv\")\n",
    "for i in courses_to_be_displayed_final:\n",
    "    for index, row in df.iterrows():\n",
    "        if(row['Course Id'].strip() == i.strip()):\n",
    "            courses_to_be_displayed_names.append(row['Course Name'])\n",
    "            break\n"
   ]
  },
  {
   "cell_type": "code",
   "execution_count": null,
   "metadata": {
    "collapsed": true
   },
   "outputs": [],
   "source": [
    "\n"
   ]
  },
  {
   "cell_type": "code",
   "execution_count": 7,
   "metadata": {
    "collapsed": true
   },
   "outputs": [],
   "source": [
    "# df = pd.read_csv(path+\"MAJOR/student_courses_recommended.csv\")"
   ]
  },
  {
   "cell_type": "code",
   "execution_count": null,
   "metadata": {
    "collapsed": true
   },
   "outputs": [],
   "source": []
  },
  {
   "cell_type": "code",
   "execution_count": 8,
   "metadata": {
    "collapsed": true
   },
   "outputs": [],
   "source": [
    "# flag = 0;\n",
    "# for index, row in df.iterrows():\n",
    "#     if(row['Email'] == email):\n",
    "#         #person has been recommended some courses\n",
    "#         recommended_course_str = \",\".join(courses_to_be_displayed_final)\n",
    "#         row['Courses Recommended'] = recommended_course_str\n",
    "#         flag=1\n",
    "#         break\n",
    "        \n",
    "# if(flag == 0):\n",
    "#     #person was never recommended\n",
    "#     recommended_course_str = \",\".join(courses_to_be_displayed_final)\n",
    "#     df.loc[len(df.index)] = [name, email, recommended_course_str] \n",
    "    \n",
    "# #store the dataframe to csv again\n",
    "# df.to_csv(path+\"MAJOR/student_courses_recommended.csv\",index=False)\n"
   ]
  },
  {
   "cell_type": "code",
   "execution_count": 9,
   "metadata": {
    "collapsed": false
   },
   "outputs": [
    {
     "name": "stdout",
     "output_type": "stream",
     "text": [
      "['CSN 461', 'CSN 203', 'CSN 204', 'CEN 409', 'CSN 401']\n",
      "['OBJECT ORIENTED PROGRAMMING ', 'OBJECT ORIENTED PROGRAMMING ', 'ANALYSIS AND DESIGN OF ALGORITHMS ', 'ADVANCED STRUCTURAL ANALYSIS ', 'COMPILER DESIGN ']\n"
     ]
    }
   ],
   "source": [
    "print(courses_to_be_displayed_final)\n",
    "print(courses_to_be_displayed_names)"
   ]
  },
  {
   "cell_type": "code",
   "execution_count": null,
   "metadata": {
    "collapsed": true
   },
   "outputs": [],
   "source": []
  },
  {
   "cell_type": "code",
   "execution_count": null,
   "metadata": {
    "collapsed": true
   },
   "outputs": [],
   "source": []
  }
 ],
 "metadata": {
  "kernelspec": {
   "display_name": "Python [default]",
   "language": "python",
   "name": "python3"
  },
  "language_info": {
   "codemirror_mode": {
    "name": "ipython",
    "version": 3
   },
   "file_extension": ".py",
   "mimetype": "text/x-python",
   "name": "python",
   "nbconvert_exporter": "python",
   "pygments_lexer": "ipython3",
   "version": "3.5.2"
  }
 },
 "nbformat": 4,
 "nbformat_minor": 5
}
