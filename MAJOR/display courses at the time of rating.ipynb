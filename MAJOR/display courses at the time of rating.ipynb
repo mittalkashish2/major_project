{
 "cells": [
  {
   "cell_type": "code",
   "execution_count": 11,
   "id": "understood-vacuum",
   "metadata": {},
   "outputs": [],
   "source": [
    "import csv\n",
    "import pandas as pd\n",
    "import numpy as np\n",
    "import os \n",
    "import sys\n",
    "\n",
    "path = \"C:/Users/admin/OneDrive/Desktop/\""
   ]
  },
  {
   "cell_type": "code",
   "execution_count": 12,
   "id": "rubber-vacation",
   "metadata": {},
   "outputs": [],
   "source": [
    "name = \"User\"\n",
    "email = \"kaulashutosh@gmail.com\"\n"
   ]
  },
  {
   "cell_type": "code",
   "execution_count": 13,
   "id": "obvious-pearl",
   "metadata": {},
   "outputs": [],
   "source": [
    "courses_selected_str = \"\"\n",
    "df = pd.read_csv(path+\"MAJOR/latest_courses_selected_checkbox.csv\")\n",
    "\n",
    "for index, row in df.iterrows():\n",
    "    if(row['Email'] == email):\n",
    "        courses_selected_str = row['Course ID']\n",
    "        flag =1\n",
    "        break\n",
    "        \n",
    "courses_selected_id = courses_selected_str.split(\",\")\n",
    "courses_selected_name = []\n"
   ]
  },
  {
   "cell_type": "code",
   "execution_count": 14,
   "id": "powered-barrel",
   "metadata": {},
   "outputs": [
    {
     "name": "stdout",
     "output_type": "stream",
     "text": [
      "['CSN 418', 'CSN 408', 'HSM 401']\n",
      "['MOBILE COMPUTING ', 'SOFTWARE PROJECT MANAGEMENT ', 'PRINCIPLES OF MANAGEMENT ']\n"
     ]
    }
   ],
   "source": [
    "df1 = pd.read_csv(path+\"MAJOR/final_syll.csv\")\n",
    "for course_id in courses_selected_id:\n",
    "    for index, row in df1.iterrows():\n",
    "        if(row['Course Id'].strip() == course_id):\n",
    "            courses_selected_name.append(row['Course Name'])\n",
    "            \n",
    "print(courses_selected_id)\n",
    "print(courses_selected_name)\n"
   ]
  },
  {
   "cell_type": "code",
   "execution_count": null,
   "id": "introductory-radar",
   "metadata": {},
   "outputs": [],
   "source": []
  }
 ],
 "metadata": {
  "kernelspec": {
   "display_name": "Python 3",
   "language": "python",
   "name": "python3"
  },
  "language_info": {
   "codemirror_mode": {
    "name": "ipython",
    "version": 3
   },
   "file_extension": ".py",
   "mimetype": "text/x-python",
   "name": "python",
   "nbconvert_exporter": "python",
   "pygments_lexer": "ipython3",
   "version": "3.9.1"
  }
 },
 "nbformat": 4,
 "nbformat_minor": 5
}
