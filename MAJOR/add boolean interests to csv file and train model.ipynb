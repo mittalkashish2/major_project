{
 "cells": [
  {
   "cell_type": "code",
   "execution_count": 73,
   "id": "identified-sauce",
   "metadata": {},
   "outputs": [],
   "source": [
    "import csv\n",
    "import pandas as pd\n",
    "import numpy as np\n",
    "import os \n",
    "import sys\n",
    "import joblib\n",
    "from sklearn import preprocessing, svm\n",
    "from sklearn.model_selection import train_test_split\n",
    "from sklearn.linear_model import LinearRegression\n",
    "import pickle"
   ]
  },
  {
   "cell_type": "code",
   "execution_count": 2,
   "id": "danish-dating",
   "metadata": {},
   "outputs": [],
   "source": [
    "path = \"C:/Users/admin/OneDrive/Desktop/\"\n"
   ]
  },
  {
   "cell_type": "code",
   "execution_count": 19,
   "id": "biological-registration",
   "metadata": {},
   "outputs": [
    {
     "data": {
      "text/plain": [
       "39"
      ]
     },
     "execution_count": 19,
     "metadata": {},
     "output_type": "execute_result"
    }
   ],
   "source": [
    "list = []\n",
    "for i in range(1,40):\n",
    "    list.append(0)\n",
    "len(list)"
   ]
  },
  {
   "cell_type": "code",
   "execution_count": 75,
   "id": "latter-juice",
   "metadata": {},
   "outputs": [],
   "source": [
    "for filename in os.listdir(path+'MAJOR/individual_course_files'):\n",
    "    df=pd.read_csv(path+'MAJOR/individual_course_files/'+filename)\n",
    "    df_temp = pd.DataFrame(list)\n",
    "    df_temp_transpose = df_temp.T\n",
    "    df_temp_transpose.columns = df.columns\n",
    "    result = df.append(df_temp_transpose)\n",
    "    result.to_csv(path+'MAJOR/individual_course_files/'+filename,index=None)\n",
    "    \n",
    "    X=result.drop('Rating',axis='columns')\n",
    "    y=result.Rating\n",
    "    model=linear_model.LinearRegression()\n",
    "    model.fit(X,y)\n",
    "    joblib_file=path+'MAJOR/individual_weights_files/'+filename[:-4]+'.pkl'\n",
    "    pickle.dump(model,open(joblib_file, 'wb'))"
   ]
  },
  {
   "cell_type": "code",
   "execution_count": null,
   "id": "atomic-river",
   "metadata": {},
   "outputs": [],
   "source": []
  },
  {
   "cell_type": "code",
   "execution_count": null,
   "id": "acceptable-northwest",
   "metadata": {},
   "outputs": [],
   "source": []
  },
  {
   "cell_type": "code",
   "execution_count": null,
   "id": "creative-uruguay",
   "metadata": {},
   "outputs": [],
   "source": []
  },
  {
   "cell_type": "code",
   "execution_count": null,
   "id": "generous-australia",
   "metadata": {},
   "outputs": [],
   "source": []
  },
  {
   "cell_type": "code",
   "execution_count": null,
   "id": "academic-indiana",
   "metadata": {},
   "outputs": [],
   "source": []
  },
  {
   "cell_type": "code",
   "execution_count": null,
   "id": "colored-techno",
   "metadata": {},
   "outputs": [],
   "source": []
  },
  {
   "cell_type": "code",
   "execution_count": null,
   "id": "graphic-phrase",
   "metadata": {},
   "outputs": [],
   "source": []
  },
  {
   "cell_type": "code",
   "execution_count": null,
   "id": "roman-bennett",
   "metadata": {},
   "outputs": [],
   "source": []
  }
 ],
 "metadata": {
  "kernelspec": {
   "display_name": "Python 3",
   "language": "python",
   "name": "python3"
  },
  "language_info": {
   "codemirror_mode": {
    "name": "ipython",
    "version": 3
   },
   "file_extension": ".py",
   "mimetype": "text/x-python",
   "name": "python",
   "nbconvert_exporter": "python",
   "pygments_lexer": "ipython3",
   "version": "3.9.1"
  }
 },
 "nbformat": 4,
 "nbformat_minor": 5
}
