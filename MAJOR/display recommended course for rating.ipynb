{
 "cells": [
  {
   "cell_type": "code",
   "execution_count": 1,
   "id": "average-allen",
   "metadata": {},
   "outputs": [],
   "source": [
    "#display the recommended courses for feedback\n",
    "import csv\n",
    "import pandas as pd\n",
    "import numpy as np\n",
    "import os \n",
    "\n",
    "path = \"C:/Users/admin/OneDrive/Desktop/\""
   ]
  },
  {
   "cell_type": "code",
   "execution_count": 2,
   "id": "annual-karen",
   "metadata": {},
   "outputs": [],
   "source": [
    "name = \"Sahill\"\n",
    "email = \"hbashka@gmail.com\""
   ]
  },
  {
   "cell_type": "code",
   "execution_count": 5,
   "id": "cleared-correlation",
   "metadata": {},
   "outputs": [],
   "source": [
    "df = pd.read_csv(path+\"MAJOR/student_courses_recommended.csv\")\n"
   ]
  },
  {
   "cell_type": "code",
   "execution_count": null,
   "id": "literary-currency",
   "metadata": {},
   "outputs": [],
   "source": []
  },
  {
   "cell_type": "code",
   "execution_count": 6,
   "id": "intended-dollar",
   "metadata": {},
   "outputs": [
    {
     "data": {
      "text/html": [
       "<div>\n",
       "<style scoped>\n",
       "    .dataframe tbody tr th:only-of-type {\n",
       "        vertical-align: middle;\n",
       "    }\n",
       "\n",
       "    .dataframe tbody tr th {\n",
       "        vertical-align: top;\n",
       "    }\n",
       "\n",
       "    .dataframe thead th {\n",
       "        text-align: right;\n",
       "    }\n",
       "</style>\n",
       "<table border=\"1\" class=\"dataframe\">\n",
       "  <thead>\n",
       "    <tr style=\"text-align: right;\">\n",
       "      <th></th>\n",
       "      <th>Name</th>\n",
       "      <th>Email</th>\n",
       "      <th>Courses Recommended</th>\n",
       "    </tr>\n",
       "  </thead>\n",
       "  <tbody>\n",
       "    <tr>\n",
       "      <th>0</th>\n",
       "      <td>Sahill</td>\n",
       "      <td>hbashka@gmail.com</td>\n",
       "      <td>CSN 461,CSN 203,CSN 204,CEN 409,CSN 401</td>\n",
       "    </tr>\n",
       "  </tbody>\n",
       "</table>\n",
       "</div>"
      ],
      "text/plain": [
       "     Name              Email                      Courses Recommended\n",
       "0  Sahill  hbashka@gmail.com  CSN 461,CSN 203,CSN 204,CEN 409,CSN 401"
      ]
     },
     "execution_count": 6,
     "metadata": {},
     "output_type": "execute_result"
    }
   ],
   "source": [
    "df"
   ]
  },
  {
   "cell_type": "code",
   "execution_count": 10,
   "id": "unable-flight",
   "metadata": {},
   "outputs": [
    {
     "name": "stdout",
     "output_type": "stream",
     "text": [
      "['CSN 461', 'CSN 203', 'CSN 204', 'CEN 409', 'CSN 401']\n"
     ]
    }
   ],
   "source": [
    "flag = 0\n",
    "courses_to_be_rated=\"\"\n",
    "for index, row in df.iterrows():\n",
    "    if(row['Email'] == email):\n",
    "        courses_to_be_rated = courses_to_be_rated+row['Courses Recommended']\n",
    "        flag =1\n",
    "        break\n",
    "\n",
    "courses_to_be_rated_list = courses_to_be_rated.split(\",\")\n",
    "print(courses_to_be_rated_list)"
   ]
  },
  {
   "cell_type": "code",
   "execution_count": null,
   "id": "configured-liechtenstein",
   "metadata": {},
   "outputs": [],
   "source": []
  }
 ],
 "metadata": {
  "kernelspec": {
   "display_name": "Python 3",
   "language": "python",
   "name": "python3"
  },
  "language_info": {
   "codemirror_mode": {
    "name": "ipython",
    "version": 3
   },
   "file_extension": ".py",
   "mimetype": "text/x-python",
   "name": "python",
   "nbconvert_exporter": "python",
   "pygments_lexer": "ipython3",
   "version": "3.9.1"
  }
 },
 "nbformat": 4,
 "nbformat_minor": 5
}
