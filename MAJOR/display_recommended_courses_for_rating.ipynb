{
 "cells": [
  {
   "cell_type": "code",
   "execution_count": 37,
   "id": "democratic-jefferson",
   "metadata": {},
   "outputs": [],
   "source": [
    "#display the recommended courses for feedback\n",
    "import csv\n",
    "import pandas as pd\n",
    "import numpy as np\n",
    "import os \n",
    "import sys\n",
    "\n",
    "path = \"C:/Users/admin/OneDrive/Desktop/\""
   ]
  },
  {
   "cell_type": "code",
   "execution_count": 38,
   "id": "welcome-phase",
   "metadata": {},
   "outputs": [],
   "source": [
    "name = \"Sahill\"\n",
    "email = \"bashka@gmail.com\""
   ]
  },
  {
   "cell_type": "code",
   "execution_count": 39,
   "id": "impressive-saudi",
   "metadata": {},
   "outputs": [],
   "source": [
    "df = pd.read_csv(path+\"MAJOR/student_courses_recommended.csv\")\n"
   ]
  },
  {
   "cell_type": "code",
   "execution_count": null,
   "id": "immune-kitty",
   "metadata": {},
   "outputs": [],
   "source": []
  },
  {
   "cell_type": "code",
   "execution_count": null,
   "id": "grand-chassis",
   "metadata": {},
   "outputs": [],
   "source": []
  },
  {
   "cell_type": "code",
   "execution_count": 40,
   "id": "greatest-version",
   "metadata": {},
   "outputs": [
    {
     "name": "stdout",
     "output_type": "stream",
     "text": [
      "['CSN 461', 'CSN 203', 'CEN 409', 'MEN 305', 'CSN 463']\n",
      "['OBJECT ORIENTED PROGRAMMING ', 'OBJECT ORIENTED PROGRAMMING ', 'ADVANCED STRUCTURAL ANALYSIS ', 'COMPUTER AIDED DESIGN, AND MANUFACTURING ', 'WEB TECHNOLOGIES ']\n"
     ]
    }
   ],
   "source": [
    "flag = 0\n",
    "courses_to_be_rated=\"\"\n",
    "for index, row in df.iterrows():\n",
    "    if(row['Email'] == email):\n",
    "        courses_to_be_rated = row['Courses Recommended']\n",
    "        flag =1\n",
    "        break\n",
    "\n",
    "courses_to_be_rated_list = courses_to_be_rated.split(\",\")\n",
    "courses_to_be_displayed_names = []\n",
    "df = pd.read_csv(path+\"MAJOR/final_syll.csv\")\n",
    "for i in courses_to_be_rated_list:\n",
    "    for index, row in df.iterrows():\n",
    "        if(row['Course Id'].strip() == i.strip()):\n",
    "            courses_to_be_displayed_names.append(row['Course Name'])\n",
    "            break\n",
    "print(courses_to_be_rated_list)\n",
    "print(courses_to_be_displayed_names)"
   ]
  },
  {
   "cell_type": "code",
   "execution_count": null,
   "id": "systematic-abraham",
   "metadata": {},
   "outputs": [],
   "source": []
  }
 ],
 "metadata": {
  "kernelspec": {
   "display_name": "Python 3",
   "language": "python",
   "name": "python3"
  },
  "language_info": {
   "codemirror_mode": {
    "name": "ipython",
    "version": 3
   },
   "file_extension": ".py",
   "mimetype": "text/x-python",
   "name": "python",
   "nbconvert_exporter": "python",
   "pygments_lexer": "ipython3",
   "version": "3.9.1"
  }
 },
 "nbformat": 4,
 "nbformat_minor": 5
}
